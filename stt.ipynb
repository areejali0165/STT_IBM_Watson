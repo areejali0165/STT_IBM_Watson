{
 "cells": [
  {
   "cell_type": "code",
   "execution_count": 4,
   "id": "d16bad2a-1ebe-4904-bbfc-a723789ea29b",
   "metadata": {},
   "outputs": [
    {
     "name": "stdout",
     "output_type": "stream",
     "text": [
      "Requirement already satisfied: ibm_watson in c:\\users\\asd31\\appdata\\local\\programs\\python\\python39\\lib\\site-packages (5.2.2)\n",
      "Requirement already satisfied: ibm-cloud-sdk-core==3.*,>=3.3.6 in c:\\users\\asd31\\appdata\\local\\programs\\python\\python39\\lib\\site-packages (from ibm_watson) (3.10.1)\n",
      "Requirement already satisfied: requests<3.0,>=2.0 in c:\\users\\asd31\\appdata\\local\\programs\\python\\python39\\lib\\site-packages (from ibm_watson) (2.26.0)\n",
      "Requirement already satisfied: python-dateutil>=2.5.3 in c:\\users\\asd31\\appdata\\local\\programs\\python\\python39\\lib\\site-packages (from ibm_watson) (2.8.2)\n",
      "Requirement already satisfied: websocket-client==1.1.0 in c:\\users\\asd31\\appdata\\local\\programs\\python\\python39\\lib\\site-packages (from ibm_watson) (1.1.0)\n",
      "Requirement already satisfied: PyJWT<3.0.0,>=2.0.1 in c:\\users\\asd31\\appdata\\local\\programs\\python\\python39\\lib\\site-packages (from ibm-cloud-sdk-core==3.*,>=3.3.6->ibm_watson) (2.1.0)\n",
      "Requirement already satisfied: six>=1.5 in c:\\users\\asd31\\appdata\\roaming\\python\\python39\\site-packages (from python-dateutil>=2.5.3->ibm_watson) (1.16.0)\n",
      "Requirement already satisfied: urllib3<1.27,>=1.21.1 in c:\\users\\asd31\\appdata\\local\\programs\\python\\python39\\lib\\site-packages (from requests<3.0,>=2.0->ibm_watson) (1.26.6)\n",
      "Requirement already satisfied: charset-normalizer~=2.0.0 in c:\\users\\asd31\\appdata\\local\\programs\\python\\python39\\lib\\site-packages (from requests<3.0,>=2.0->ibm_watson) (2.0.3)\n",
      "Requirement already satisfied: certifi>=2017.4.17 in c:\\users\\asd31\\appdata\\local\\programs\\python\\python39\\lib\\site-packages (from requests<3.0,>=2.0->ibm_watson) (2021.5.30)\n",
      "Requirement already satisfied: idna<4,>=2.5 in c:\\users\\asd31\\appdata\\local\\programs\\python\\python39\\lib\\site-packages (from requests<3.0,>=2.0->ibm_watson) (3.2)\n",
      "Note: you may need to restart the kernel to use updated packages.\n"
     ]
    }
   ],
   "source": [
    "pip install ibm_watson"
   ]
  },
  {
   "cell_type": "code",
   "execution_count": 5,
   "id": "b5636113-3750-47fa-b424-8d03e1f38bea",
   "metadata": {},
   "outputs": [
    {
     "name": "stdout",
     "output_type": "stream",
     "text": [
      "Requirement already satisfied: ibm_cloud_sdk_core in c:\\users\\asd31\\appdata\\local\\programs\\python\\python39\\lib\\site-packages (3.10.1)\n",
      "Requirement already satisfied: requests<3.0,>=2.20 in c:\\users\\asd31\\appdata\\local\\programs\\python\\python39\\lib\\site-packages (from ibm_cloud_sdk_core) (2.26.0)\n",
      "Requirement already satisfied: python_dateutil<3.0.0,>=2.5.3 in c:\\users\\asd31\\appdata\\local\\programs\\python\\python39\\lib\\site-packages (from ibm_cloud_sdk_core) (2.8.2)\n",
      "Requirement already satisfied: PyJWT<3.0.0,>=2.0.1 in c:\\users\\asd31\\appdata\\local\\programs\\python\\python39\\lib\\site-packages (from ibm_cloud_sdk_core) (2.1.0)\n",
      "Requirement already satisfied: six>=1.5 in c:\\users\\asd31\\appdata\\roaming\\python\\python39\\site-packages (from python_dateutil<3.0.0,>=2.5.3->ibm_cloud_sdk_core) (1.16.0)\n",
      "Requirement already satisfied: urllib3<1.27,>=1.21.1 in c:\\users\\asd31\\appdata\\local\\programs\\python\\python39\\lib\\site-packages (from requests<3.0,>=2.20->ibm_cloud_sdk_core) (1.26.6)\n",
      "Requirement already satisfied: idna<4,>=2.5 in c:\\users\\asd31\\appdata\\local\\programs\\python\\python39\\lib\\site-packages (from requests<3.0,>=2.20->ibm_cloud_sdk_core) (3.2)\n",
      "Requirement already satisfied: charset-normalizer~=2.0.0 in c:\\users\\asd31\\appdata\\local\\programs\\python\\python39\\lib\\site-packages (from requests<3.0,>=2.20->ibm_cloud_sdk_core) (2.0.3)\n",
      "Requirement already satisfied: certifi>=2017.4.17 in c:\\users\\asd31\\appdata\\local\\programs\\python\\python39\\lib\\site-packages (from requests<3.0,>=2.20->ibm_cloud_sdk_core) (2021.5.30)\n",
      "Note: you may need to restart the kernel to use updated packages.\n"
     ]
    }
   ],
   "source": [
    "pip install ibm_cloud_sdk_core"
   ]
  },
  {
   "cell_type": "code",
   "execution_count": 6,
   "id": "4d4164d5-934e-4500-bad9-fdeea3b6c645",
   "metadata": {},
   "outputs": [],
   "source": [
    "from ibm_watson import SpeechToTextV1"
   ]
  },
  {
   "cell_type": "code",
   "execution_count": 7,
   "id": "dabd83a3-9867-4855-a111-3e76593adff7",
   "metadata": {},
   "outputs": [],
   "source": [
    "from ibm_cloud_sdk_core.authenticators import IAMAuthenticator"
   ]
  },
  {
   "cell_type": "code",
   "execution_count": 8,
   "id": "5d5b4994-1b44-4b74-baba-92166929f06a",
   "metadata": {},
   "outputs": [],
   "source": [
    "apiKey = \"m6IcPU1J8dOautnBwZXmeGWKeReD_0Iv_jW_U6lgRogM\"\n",
    "url = \"https://api.eu-gb.speech-to-text.watson.cloud.ibm.com/instances/b578c17b-3dc9-4697-acc5-43afd05a6626\""
   ]
  },
  {
   "cell_type": "code",
   "execution_count": 12,
   "id": "dfa74b28-5a94-4c46-8ffc-96b71cad6d93",
   "metadata": {},
   "outputs": [],
   "source": [
    "authenticator = IAMAuthenticator(apiKey)\n",
    "stt = SpeechToTextV1(authenticator=authenticator)\n",
    "stt.set_service_url(url)"
   ]
  },
  {
   "cell_type": "code",
   "execution_count": 13,
   "id": "c0a649a2-8b75-4069-8c8e-642609796436",
   "metadata": {},
   "outputs": [],
   "source": [
    "with open('stt4.mp3','rb') as f:\n",
    "    res=stt.recognize(audio=f, content_type=\"audio/mp3\", model=\"en-US_NarrowbandModel\" , continuous=True).get_result()\n"
   ]
  },
  {
   "cell_type": "code",
   "execution_count": 14,
   "id": "61d6a79c-3fe7-4986-910f-118a90ec675f",
   "metadata": {},
   "outputs": [
    {
     "data": {
      "text/plain": [
       "{'result_index': 0,\n",
       " 'results': [{'final': True,\n",
       "   'alternatives': [{'transcript': 'welcome to company ',\n",
       "     'confidence': 0.96}]}]}"
      ]
     },
     "execution_count": 14,
     "metadata": {},
     "output_type": "execute_result"
    }
   ],
   "source": [
    "res"
   ]
  },
  {
   "cell_type": "code",
   "execution_count": 15,
   "id": "7d009745-ba59-4b21-bece-cb285503fcf7",
   "metadata": {},
   "outputs": [
    {
     "data": {
      "text/plain": [
       "'welcome to company '"
      ]
     },
     "execution_count": 15,
     "metadata": {},
     "output_type": "execute_result"
    }
   ],
   "source": [
    "text =res['results'][0]['alternatives'][0]['transcript']\n",
    "text"
   ]
  },
  {
   "cell_type": "code",
   "execution_count": 17,
   "id": "5b2d54ea-559d-42d8-888a-a4e88f2e7345",
   "metadata": {},
   "outputs": [],
   "source": [
    "with open('output.txt', 'w') as out:\n",
    "    out.writelines(text)"
   ]
  },
  {
   "cell_type": "code",
   "execution_count": null,
   "id": "10c85b1d-3d87-4a80-9155-7d635fd110df",
   "metadata": {},
   "outputs": [],
   "source": []
  }
 ],
 "metadata": {
  "kernelspec": {
   "display_name": "Python 3 (ipykernel)",
   "language": "python",
   "name": "python3"
  },
  "language_info": {
   "codemirror_mode": {
    "name": "ipython",
    "version": 3
   },
   "file_extension": ".py",
   "mimetype": "text/x-python",
   "name": "python",
   "nbconvert_exporter": "python",
   "pygments_lexer": "ipython3",
   "version": "3.9.6"
  }
 },
 "nbformat": 4,
 "nbformat_minor": 5
}
